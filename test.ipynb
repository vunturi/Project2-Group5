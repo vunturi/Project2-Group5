{
 "cells": [
  {
   "cell_type": "code",
   "execution_count": 8,
   "metadata": {},
   "outputs": [],
   "source": [
    "# Dependencies\n",
    "\n",
    "import pandas as pd\n",
    "#import numpy as np\n",
    "#from sqlalchemy.ext.automap import automap_base\n",
    "from sqlalchemy import create_engine\n",
    "from sqlalchemy.orm import sessionmaker\n",
    "from sqlalchemy.ext.declarative import declarative_base\n",
    "from sqlalchemy import Table,Column,Integer,String\n",
    "import glob\n",
    "import os\n",
    "from sqlalchemy import MetaData\n",
    "from sqlalchemy.orm import mapper\n",
    "#from sqlalchemy import inspect\n"
   ]
  },
  {
   "cell_type": "code",
   "execution_count": 9,
   "metadata": {},
   "outputs": [],
   "source": [
    "# SQL Alchemy setup\n",
    "\n",
    "# Create engine that will allow us to communicate with database\n",
    "engine=create_engine('sqlite:///scores_dbase.sqlite',echo=False)"
   ]
  },
  {
   "cell_type": "code",
   "execution_count": 10,
   "metadata": {},
   "outputs": [],
   "source": [
    "#Creating session which is the middle ground to talk to our engine\n",
    "Session=sessionmaker(bind=engine)\n",
    "session=Session()"
   ]
  },
  {
   "cell_type": "code",
   "execution_count": 11,
   "metadata": {},
   "outputs": [],
   "source": [
    "# Map which table in database will be related to each class\n",
    "Base=declarative_base()"
   ]
  },
  {
   "cell_type": "code",
   "execution_count": 12,
   "metadata": {},
   "outputs": [],
   "source": [
    "# Create a metadata instance\n",
    "#A metadata is an object container that will store attributes and name of table\n",
    "metadata=MetaData(engine)\n",
    "\n",
    "#Define structure of table\n",
    "class scores_table(object):\n",
    "    def __init__(self, number, description, ref_des):\n",
    "        self.state=state\n",
    "        self.gender=gender\n",
    "        self.avg_2009_mathScores=avg_2009_mathScores\n",
    "        self.avg_2017_mathScores=avg_2017_mathScores\n",
    "        self.mathScores_percentChange=mathScores_percentChange\n",
    "        \n",
    "    def __repr__(self):\n",
    "        return f'{self.state, self.gender, self.avg_2009_mathScores, self.avg_2017_mathScores, self.mathScores_percentChange}'\n",
    "\n",
    "    "
   ]
  },
  {
   "cell_type": "code",
   "execution_count": 13,
   "metadata": {},
   "outputs": [],
   "source": [
    "#Declaring a table\n",
    "#Defining a function that defines table, we define this function so that we can keep table names dynamic\n",
    "#That is, we can have multiple tables in database and each table can have a different name\n",
    "\n",
    "def table_definition(table_name):\n",
    "\n",
    "#Define table structure, here table_name varies\n",
    "#We want to make table_define available outside function so we declare it as a function attribute\n",
    "\n",
    "    table_definition.table_define=Table(table_name,metadata,\n",
    "    #Column('id',Integer,primary_key=True),\n",
    "    Column('state',String),\n",
    "    Column('gender',String),\n",
    "    Column('avg_2009_mathScores',INT),\n",
    "    Column('avg_2017_mathScores',INT),\n",
    "    Column('mathScores_percentChange',INT)\n",
    "    )"
   ]
  },
  {
   "cell_type": "code",
   "execution_count": 14,
   "metadata": {},
   "outputs": [
    {
     "ename": "AttributeError",
     "evalue": "'function' object has no attribute 'table_define'",
     "output_type": "error",
     "traceback": [
      "\u001b[1;31m---------------------------------------------------------------------------\u001b[0m",
      "\u001b[1;31mAttributeError\u001b[0m                            Traceback (most recent call last)",
      "\u001b[1;32m<ipython-input-14-32411d588d4a>\u001b[0m in \u001b[0;36m<module>\u001b[1;34m\u001b[0m\n\u001b[0;32m      4\u001b[0m \u001b[1;33m\u001b[0m\u001b[0m\n\u001b[0;32m      5\u001b[0m \u001b[1;31m#Use mapper to define components of class as well as table definition together at once\u001b[0m\u001b[1;33m\u001b[0m\u001b[1;33m\u001b[0m\u001b[1;33m\u001b[0m\u001b[0m\n\u001b[1;32m----> 6\u001b[1;33m \u001b[0mmapper\u001b[0m\u001b[1;33m(\u001b[0m\u001b[0mscores_table\u001b[0m\u001b[1;33m,\u001b[0m\u001b[0mtable_definition\u001b[0m\u001b[1;33m.\u001b[0m\u001b[0mtable_define\u001b[0m\u001b[1;33m,\u001b[0m\u001b[0mnon_primary\u001b[0m\u001b[1;33m=\u001b[0m\u001b[1;32mTrue\u001b[0m\u001b[1;33m)\u001b[0m\u001b[1;33m\u001b[0m\u001b[1;33m\u001b[0m\u001b[0m\n\u001b[0m",
      "\u001b[1;31mAttributeError\u001b[0m: 'function' object has no attribute 'table_define'"
     ]
    }
   ],
   "source": [
    "#Create table\n",
    "#Note that we used the engine from function\n",
    "metadata.create_all(engine)\n",
    "    \n",
    "#Use mapper to define components of class as well as table definition together at once\n",
    "mapper(scores_table,table_definition.table_define,non_primary=True)\n"
   ]
  },
  {
   "cell_type": "code",
   "execution_count": 19,
   "metadata": {},
   "outputs": [
    {
     "ename": "AttributeError",
     "evalue": "type object 'int' has no attribute '_set_parent_with_dispatch'",
     "output_type": "error",
     "traceback": [
      "\u001b[1;31m---------------------------------------------------------------------------\u001b[0m",
      "\u001b[1;31mAttributeError\u001b[0m                            Traceback (most recent call last)",
      "\u001b[1;32m<ipython-input-19-fa7f0fa34ca0>\u001b[0m in \u001b[0;36m<module>\u001b[1;34m\u001b[0m\n\u001b[0;32m      9\u001b[0m \u001b[0mColumn\u001b[0m\u001b[1;33m(\u001b[0m\u001b[1;34m'state'\u001b[0m\u001b[1;33m,\u001b[0m\u001b[0mString\u001b[0m\u001b[1;33m)\u001b[0m\u001b[1;33m,\u001b[0m\u001b[1;33m\u001b[0m\u001b[1;33m\u001b[0m\u001b[0m\n\u001b[0;32m     10\u001b[0m \u001b[0mColumn\u001b[0m\u001b[1;33m(\u001b[0m\u001b[1;34m'gender'\u001b[0m\u001b[1;33m,\u001b[0m\u001b[0mString\u001b[0m\u001b[1;33m)\u001b[0m\u001b[1;33m,\u001b[0m\u001b[1;33m\u001b[0m\u001b[1;33m\u001b[0m\u001b[0m\n\u001b[1;32m---> 11\u001b[1;33m \u001b[0mColumn\u001b[0m\u001b[1;33m(\u001b[0m\u001b[1;34m'avg_2009_mathScores'\u001b[0m\u001b[1;33m,\u001b[0m\u001b[0mint\u001b[0m\u001b[1;33m)\u001b[0m\u001b[1;33m,\u001b[0m\u001b[1;33m\u001b[0m\u001b[1;33m\u001b[0m\u001b[0m\n\u001b[0m\u001b[0;32m     12\u001b[0m \u001b[0mColumn\u001b[0m\u001b[1;33m(\u001b[0m\u001b[1;34m'avg_2017_mathScores'\u001b[0m\u001b[1;33m,\u001b[0m\u001b[0mint\u001b[0m\u001b[1;33m)\u001b[0m\u001b[1;33m,\u001b[0m\u001b[1;33m\u001b[0m\u001b[1;33m\u001b[0m\u001b[0m\n\u001b[0;32m     13\u001b[0m \u001b[0mColumn\u001b[0m\u001b[1;33m(\u001b[0m\u001b[1;34m'mathScores_percentChange'\u001b[0m\u001b[1;33m,\u001b[0m\u001b[0mint\u001b[0m\u001b[1;33m)\u001b[0m\u001b[1;33m\u001b[0m\u001b[1;33m\u001b[0m\u001b[0m\n",
      "\u001b[1;32m~\\Anaconda3\\lib\\site-packages\\sqlalchemy\\sql\\schema.py\u001b[0m in \u001b[0;36m__init__\u001b[1;34m(self, *args, **kwargs)\u001b[0m\n\u001b[0;32m   1375\u001b[0m                     \u001b[0mDefaultClause\u001b[0m\u001b[1;33m(\u001b[0m\u001b[0mself\u001b[0m\u001b[1;33m.\u001b[0m\u001b[0mserver_onupdate\u001b[0m\u001b[1;33m,\u001b[0m \u001b[0mfor_update\u001b[0m\u001b[1;33m=\u001b[0m\u001b[1;32mTrue\u001b[0m\u001b[1;33m)\u001b[0m\u001b[1;33m\u001b[0m\u001b[1;33m\u001b[0m\u001b[0m\n\u001b[0;32m   1376\u001b[0m                 )\n\u001b[1;32m-> 1377\u001b[1;33m         \u001b[0mself\u001b[0m\u001b[1;33m.\u001b[0m\u001b[0m_init_items\u001b[0m\u001b[1;33m(\u001b[0m\u001b[1;33m*\u001b[0m\u001b[0margs\u001b[0m\u001b[1;33m)\u001b[0m\u001b[1;33m\u001b[0m\u001b[1;33m\u001b[0m\u001b[0m\n\u001b[0m\u001b[0;32m   1378\u001b[0m \u001b[1;33m\u001b[0m\u001b[0m\n\u001b[0;32m   1379\u001b[0m         \u001b[0mutil\u001b[0m\u001b[1;33m.\u001b[0m\u001b[0mset_creation_order\u001b[0m\u001b[1;33m(\u001b[0m\u001b[0mself\u001b[0m\u001b[1;33m)\u001b[0m\u001b[1;33m\u001b[0m\u001b[1;33m\u001b[0m\u001b[0m\n",
      "\u001b[1;32m~\\Anaconda3\\lib\\site-packages\\sqlalchemy\\sql\\schema.py\u001b[0m in \u001b[0;36m_init_items\u001b[1;34m(self, *args)\u001b[0m\n\u001b[0;32m    105\u001b[0m         \u001b[1;32mfor\u001b[0m \u001b[0mitem\u001b[0m \u001b[1;32min\u001b[0m \u001b[0margs\u001b[0m\u001b[1;33m:\u001b[0m\u001b[1;33m\u001b[0m\u001b[1;33m\u001b[0m\u001b[0m\n\u001b[0;32m    106\u001b[0m             \u001b[1;32mif\u001b[0m \u001b[0mitem\u001b[0m \u001b[1;32mis\u001b[0m \u001b[1;32mnot\u001b[0m \u001b[1;32mNone\u001b[0m\u001b[1;33m:\u001b[0m\u001b[1;33m\u001b[0m\u001b[1;33m\u001b[0m\u001b[0m\n\u001b[1;32m--> 107\u001b[1;33m                 \u001b[0mitem\u001b[0m\u001b[1;33m.\u001b[0m\u001b[0m_set_parent_with_dispatch\u001b[0m\u001b[1;33m(\u001b[0m\u001b[0mself\u001b[0m\u001b[1;33m)\u001b[0m\u001b[1;33m\u001b[0m\u001b[1;33m\u001b[0m\u001b[0m\n\u001b[0m\u001b[0;32m    108\u001b[0m \u001b[1;33m\u001b[0m\u001b[0m\n\u001b[0;32m    109\u001b[0m     \u001b[1;32mdef\u001b[0m \u001b[0mget_children\u001b[0m\u001b[1;33m(\u001b[0m\u001b[0mself\u001b[0m\u001b[1;33m,\u001b[0m \u001b[1;33m**\u001b[0m\u001b[0mkwargs\u001b[0m\u001b[1;33m)\u001b[0m\u001b[1;33m:\u001b[0m\u001b[1;33m\u001b[0m\u001b[1;33m\u001b[0m\u001b[0m\n",
      "\u001b[1;31mAttributeError\u001b[0m: type object 'int' has no attribute '_set_parent_with_dispatch'"
     ]
    }
   ],
   "source": [
    "#CREATING A DUMMY BLANK TABLE FOR PRIMARY MAPPER\n",
    "#This avoids error: Class already has a primary mapper defined\n",
    "#We made non_primary=True in table_definition function mapper\n",
    "#This is the work around I could use, maybe there is another way\n",
    "\n",
    "#Define table structure, here table_name varies\n",
    "table_define_dummy=Table('dummy_table',metadata,\n",
    "#Column('id',Integer,primary_key=True),\n",
    "Column('state',String),\n",
    "Column('gender',String),\n",
    "Column('avg_2009_mathScores',int),\n",
    "Column('avg_2017_mathScores',int),\n",
    "Column('mathScores_percentChange',int)\n",
    ")\n",
    "\n",
    "#Create table\n",
    "metadata.create_all(engine)\n",
    "\n",
    "#Use mapper to define components of class as well as table definition together at once\n",
    "mapper(scores_table,table_define_dummy)"
   ]
  },
  {
   "cell_type": "code",
   "execution_count": 20,
   "metadata": {},
   "outputs": [],
   "source": [
    "#This function will create a separate table for each csv file, if you have multiple csv files\n",
    "#Name of table will be extracted from file name. File name contains product name. \n",
    "#Each table will be identified by product name\n",
    "# It will read each excel file in the folder and insert bom into table\n",
    "def create_table(folder_of_files):\n",
    "    \n",
    "#Get list of files in folder\n",
    "    files=glob.glob(os.path.join(folder_of_files,\"*.csv\"))\n",
    "    \n",
    "    \n",
    "#Loop through all files in list\n",
    "    for file_name in files:\n",
    "        \n",
    "        #Read file into dataframe\n",
    "        csv_data=pd.read_csv(file_name)\n",
    "        \n",
    "        #Convert dataframe to list and store in same variable\n",
    "        csv_data=csv_data.values.tolist()\n",
    "        \n",
    "        #Get table name from file name. This will be our table name. \n",
    "        table_name_from_file=file_name.split('/')[8][:-4]\n",
    "        \n",
    "        #Use table_definition function to define table structure\n",
    "        table_definition(table_name_from_file)\n",
    "        \n",
    "        "
   ]
  },
  {
   "cell_type": "code",
   "execution_count": 21,
   "metadata": {},
   "outputs": [
    {
     "ename": "NameError",
     "evalue": "name 'csv_data' is not defined",
     "output_type": "error",
     "traceback": [
      "\u001b[1;31m---------------------------------------------------------------------------\u001b[0m",
      "\u001b[1;31mNameError\u001b[0m                                 Traceback (most recent call last)",
      "\u001b[1;32m<ipython-input-21-66daf7800548>\u001b[0m in \u001b[0;36m<module>\u001b[1;34m\u001b[0m\n\u001b[0;32m      1\u001b[0m \u001b[1;31m#Loop through list of lists, each list in create_bom_table.xls_data is a row\u001b[0m\u001b[1;33m\u001b[0m\u001b[1;33m\u001b[0m\u001b[1;33m\u001b[0m\u001b[0m\n\u001b[0;32m      2\u001b[0m \u001b[1;33m\u001b[0m\u001b[0m\n\u001b[1;32m----> 3\u001b[1;33m \u001b[1;32mfor\u001b[0m \u001b[0mrow\u001b[0m \u001b[1;32min\u001b[0m \u001b[0mcsv_data\u001b[0m\u001b[1;33m:\u001b[0m\u001b[1;33m\u001b[0m\u001b[1;33m\u001b[0m\u001b[0m\n\u001b[0m\u001b[0;32m      4\u001b[0m \u001b[1;33m\u001b[0m\u001b[0m\n\u001b[0;32m      5\u001b[0m     \u001b[1;31m#Each element in the list is an attribute for the table class\u001b[0m\u001b[1;33m\u001b[0m\u001b[1;33m\u001b[0m\u001b[1;33m\u001b[0m\u001b[0m\n",
      "\u001b[1;31mNameError\u001b[0m: name 'csv_data' is not defined"
     ]
    }
   ],
   "source": [
    "#Loop through list of lists, each list in create_bom_table.xls_data is a row\n",
    "\n",
    "for row in csv_data:\n",
    "            \n",
    "    #Each element in the list is an attribute for the table class\n",
    "    #Iterating through rows and inserting into table\n",
    "            ins=table_definition.table_define.insert().values(\n",
    "            product_id=row[0],station=row[1],time=row[2],result=row[3],employee_id=row[4])\n",
    "            conn=engine.connect()\n",
    "            conn.execute(ins)"
   ]
  },
  {
   "cell_type": "code",
   "execution_count": 22,
   "metadata": {},
   "outputs": [],
   "source": [
    "#Calling function, argument is path of folder where all CSV files are stored\n",
    "create_table(\"data/rawdata\")"
   ]
  },
  {
   "cell_type": "code",
   "execution_count": null,
   "metadata": {},
   "outputs": [],
   "source": []
  }
 ],
 "metadata": {
  "file_extension": ".py",
  "kernelspec": {
   "display_name": "Python 3",
   "language": "python",
   "name": "python3"
  },
  "language_info": {
   "codemirror_mode": {
    "name": "ipython",
    "version": 3
   },
   "file_extension": ".py",
   "mimetype": "text/x-python",
   "name": "python",
   "nbconvert_exporter": "python",
   "pygments_lexer": "ipython3",
   "version": "3.7.3"
  },
  "mimetype": "text/x-python",
  "name": "python",
  "npconvert_exporter": "python",
  "pygments_lexer": "ipython3",
  "version": 3
 },
 "nbformat": 4,
 "nbformat_minor": 2
}
