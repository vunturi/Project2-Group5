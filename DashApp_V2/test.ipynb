{
 "cells": [
  {
   "cell_type": "code",
   "execution_count": 1,
   "metadata": {},
   "outputs": [],
   "source": [
    "import os\n",
    "\n",
    "import pandas as pd\n",
    "import numpy as np\n",
    "\n",
    "from sqlalchemy.ext.automap import automap_base\n",
    "from sqlalchemy.ext.declarative import declarative_base\n",
    "from sqlalchemy.orm import Session\n",
    "from sqlalchemy import create_engine\n",
    "from sqlalchemy import inspect\n",
    "\n",
    "from flask import Flask, jsonify, render_template\n",
    "from flask_sqlalchemy import SQLAlchemy"
   ]
  },
  {
   "cell_type": "code",
   "execution_count": 2,
   "metadata": {},
   "outputs": [],
   "source": [
    "app = Flask(__name__)"
   ]
  },
  {
   "cell_type": "code",
   "execution_count": 3,
   "metadata": {},
   "outputs": [
    {
     "name": "stderr",
     "output_type": "stream",
     "text": [
      "/anaconda3/lib/python3.7/site-packages/flask_sqlalchemy/__init__.py:835: FSADeprecationWarning: SQLALCHEMY_TRACK_MODIFICATIONS adds significant overhead and will be disabled by default in the future.  Set it to True or False to suppress this warning.\n",
      "  'SQLALCHEMY_TRACK_MODIFICATIONS adds significant overhead and '\n"
     ]
    }
   ],
   "source": [
    "app.config[\"SQLALCHEMY_DATABASE_URI\"] = \"sqlite:///db/db.sqlite\"\n",
    "db = SQLAlchemy(app)"
   ]
  },
  {
   "cell_type": "code",
   "execution_count": 4,
   "metadata": {},
   "outputs": [],
   "source": [
    "# reflect an existing database into a new model\n",
    "Base = automap_base()\n",
    "# reflect the tables\n",
    "classes = Base.prepare(db.engine, reflect=True)"
   ]
  },
  {
   "cell_type": "code",
   "execution_count": 5,
   "metadata": {},
   "outputs": [
    {
     "data": {
      "text/plain": [
       "['female_math', 'female_reading', 'male_math', 'male_reading']"
      ]
     },
     "execution_count": 5,
     "metadata": {},
     "output_type": "execute_result"
    }
   ],
   "source": [
    "Base.classes.keys()"
   ]
  },
  {
   "cell_type": "code",
   "execution_count": 6,
   "metadata": {},
   "outputs": [],
   "source": [
    "# Save references to each table\n",
    "male_math = Base.classes.male_math\n",
    "female_math = Base.classes.female_math\n",
    "male_reading = Base.classes.male_reading\n",
    "female_reading = Base.classes.female_reading"
   ]
  },
  {
   "cell_type": "code",
   "execution_count": 12,
   "metadata": {},
   "outputs": [
    {
     "data": {
      "text/plain": [
       "[('AK'),\n",
       " ('AL'),\n",
       " ('AR'),\n",
       " ('AZ'),\n",
       " ('CA'),\n",
       " ('CO'),\n",
       " ('CT'),\n",
       " ('DC'),\n",
       " ('DE'),\n",
       " ('FL')]"
      ]
     },
     "execution_count": 12,
     "metadata": {},
     "output_type": "execute_result"
    }
   ],
   "source": [
    "results = db.session.query(female_math.state).limit(10).all()\n",
    "results"
   ]
  },
  {
   "cell_type": "code",
   "execution_count": 13,
   "metadata": {},
   "outputs": [
    {
     "name": "stdout",
     "output_type": "stream",
     "text": [
      "      id state  gender  avg_2009_mathScores  avg_2017_mathScores  \\\n",
      "0      2    AK  Female           235.929342           230.461187   \n",
      "1      4    AL  Female           228.224749           231.878482   \n",
      "2      6    AR  Female           236.199533           232.664988   \n",
      "3      8    AZ  Female           229.686859           233.215046   \n",
      "4     10    CA  Female           230.676542           231.215506   \n",
      "5     12    CO  Female           242.269801           241.137297   \n",
      "6     14    CT  Female           242.961088           236.916650   \n",
      "7     16    DC  Female           220.567780           231.281780   \n",
      "8     18    DE  Female           237.751097           236.668776   \n",
      "9     20    FL  Female           241.337323           245.231570   \n",
      "10    22    GA  Female           235.546074           236.091366   \n",
      "11    24    HI  Female           236.130872           237.750739   \n",
      "12    26    IA  Female           241.844168           240.994006   \n",
      "13    28    ID  Female           240.130896           238.228900   \n",
      "14    30    IL  Female           236.905252           236.602813   \n",
      "15    32    IN  Female           242.229985           244.694534   \n",
      "16    34    KS  Female           244.387211           239.847327   \n",
      "17    36    KY  Female           237.567519           237.520277   \n",
      "18    38    LA  Female           228.689939           229.351408   \n",
      "19    40    MA  Female           251.082390           246.596569   \n",
      "20    42    MD  Female           243.346193           239.063346   \n",
      "21    44    ME  Female           242.271087           239.555995   \n",
      "22    46    MI  Female           234.952982           234.281208   \n",
      "23    48    MN  Female           247.556902           247.181057   \n",
      "24    50    MO  Female           240.093870           237.681580   \n",
      "25    52    MS  Female           227.854993           233.902171   \n",
      "26    54    MT  Female           241.664465           240.041406   \n",
      "27    56    NC  Female           243.579270           240.005833   \n",
      "28    58    ND  Female           243.515307           242.748856   \n",
      "29    60    NE  Female           238.739814           243.843420   \n",
      "..   ...   ...     ...                  ...                  ...   \n",
      "74   150    MI  Female           234.281208           234.952982   \n",
      "75   152    MN  Female           247.181057           247.556902   \n",
      "76   154    MO  Female           237.681580           240.093870   \n",
      "77   156    MS  Female           233.902171           227.854993   \n",
      "78   158    MT  Female           240.041406           241.664465   \n",
      "79   160    NC  Female           240.005833           243.579270   \n",
      "80   162    ND  Female           242.748856           243.515307   \n",
      "81   164    NE  Female           243.843420           238.739814   \n",
      "82   166    NH  Female           243.591762           249.865069   \n",
      "83   168    NJ  Female           247.415912           244.525138   \n",
      "84   170    NM  Female           228.959794           229.388171   \n",
      "85   172    NT  Female           238.594000           238.694420   \n",
      "86   174    NV  Female           231.282843           234.203997   \n",
      "87   176    NY  Female           233.422546           239.324708   \n",
      "88   178    OH  Female           240.429997           241.873945   \n",
      "89   180    OK  Female           235.862587           235.625152   \n",
      "90   182    OR  Female           231.043614           235.971756   \n",
      "91   184    PA  Female           239.979921           242.364825   \n",
      "92   186    RI  Female           236.947273           237.004820   \n",
      "93   188    SC  Female           233.128894           235.182813   \n",
      "94   190    SD  Female           239.369519           240.641636   \n",
      "95   192    TN  Female           236.416996           231.468040   \n",
      "96   194    TX  Female           240.832106           240.026227   \n",
      "97   196    UT  Female           240.310775           239.270713   \n",
      "98   198    VA  Female           245.472007           241.409086   \n",
      "99   200    VT  Female           240.443402           246.599426   \n",
      "100  202    WA  Female           240.087295           242.121621   \n",
      "101  204    WI  Female           238.982809           242.410069   \n",
      "102  206    WV  Female           235.582178           231.929539   \n",
      "103  208    WY  Female           246.067565           240.989582   \n",
      "\n",
      "     mathScores_precentChange  \n",
      "0                    5.468155  \n",
      "1                   -3.653733  \n",
      "2                    3.534545  \n",
      "3                   -3.528187  \n",
      "4                   -0.538964  \n",
      "5                    1.132504  \n",
      "6                    6.044438  \n",
      "7                  -10.714000  \n",
      "8                    1.082321  \n",
      "9                   -3.894247  \n",
      "10                  -0.545292  \n",
      "11                  -1.619867  \n",
      "12                   0.850162  \n",
      "13                   1.901996  \n",
      "14                   0.302439  \n",
      "15                  -2.464548  \n",
      "16                   4.539885  \n",
      "17                   0.047242  \n",
      "18                  -0.661469  \n",
      "19                   4.485821  \n",
      "20                   4.282847  \n",
      "21                   2.715091  \n",
      "22                   0.671773  \n",
      "23                   0.375845  \n",
      "24                   2.412290  \n",
      "25                  -6.047178  \n",
      "26                   1.623059  \n",
      "27                   3.573438  \n",
      "28                   0.766451  \n",
      "29                  -5.103605  \n",
      "..                        ...  \n",
      "74                  -0.671773  \n",
      "75                  -0.375845  \n",
      "76                  -2.412290  \n",
      "77                   6.047178  \n",
      "78                  -1.623059  \n",
      "79                  -3.573438  \n",
      "80                  -0.766451  \n",
      "81                   5.103605  \n",
      "82                  -6.273307  \n",
      "83                   2.890774  \n",
      "84                  -0.428378  \n",
      "85                  -0.100420  \n",
      "86                  -2.921154  \n",
      "87                  -5.902163  \n",
      "88                  -1.443948  \n",
      "89                   0.237435  \n",
      "90                  -4.928141  \n",
      "91                  -2.384904  \n",
      "92                  -0.057547  \n",
      "93                  -2.053919  \n",
      "94                  -1.272116  \n",
      "95                   4.948956  \n",
      "96                   0.805879  \n",
      "97                   1.040062  \n",
      "98                   4.062921  \n",
      "99                  -6.156024  \n",
      "100                 -2.034325  \n",
      "101                 -3.427260  \n",
      "102                  3.652639  \n",
      "103                  5.077983  \n",
      "\n",
      "[104 rows x 6 columns]\n"
     ]
    }
   ],
   "source": [
    "    stmt = db.session.query(female_math).statement\n",
    "    df = pd.read_sql_query(stmt, db.session.bind)\n",
    "    print(df)"
   ]
  },
  {
   "cell_type": "code",
   "execution_count": 14,
   "metadata": {},
   "outputs": [
    {
     "ename": "RuntimeError",
     "evalue": "Working outside of application context.\n\nThis typically means that you attempted to use functionality that needed\nto interface with the current application object in some way. To solve\nthis, set up an application context with app.app_context().  See the\ndocumentation for more information.",
     "output_type": "error",
     "traceback": [
      "\u001b[0;31m---------------------------------------------------------------------------\u001b[0m",
      "\u001b[0;31mRuntimeError\u001b[0m                              Traceback (most recent call last)",
      "\u001b[0;32m<ipython-input-14-9200624d08d2>\u001b[0m in \u001b[0;36m<module>\u001b[0;34m\u001b[0m\n\u001b[0;32m----> 1\u001b[0;31m \u001b[0mjsonify\u001b[0m\u001b[0;34m(\u001b[0m\u001b[0mdf\u001b[0m\u001b[0;34m)\u001b[0m\u001b[0;34m\u001b[0m\u001b[0;34m\u001b[0m\u001b[0m\n\u001b[0m",
      "\u001b[0;32m/anaconda3/lib/python3.7/site-packages/flask/json/__init__.py\u001b[0m in \u001b[0;36mjsonify\u001b[0;34m(*args, **kwargs)\u001b[0m\n\u001b[1;32m    307\u001b[0m     \u001b[0mseparators\u001b[0m \u001b[0;34m=\u001b[0m \u001b[0;34m(\u001b[0m\u001b[0;34m','\u001b[0m\u001b[0;34m,\u001b[0m \u001b[0;34m':'\u001b[0m\u001b[0;34m)\u001b[0m\u001b[0;34m\u001b[0m\u001b[0;34m\u001b[0m\u001b[0m\n\u001b[1;32m    308\u001b[0m \u001b[0;34m\u001b[0m\u001b[0m\n\u001b[0;32m--> 309\u001b[0;31m     \u001b[0;32mif\u001b[0m \u001b[0mcurrent_app\u001b[0m\u001b[0;34m.\u001b[0m\u001b[0mconfig\u001b[0m\u001b[0;34m[\u001b[0m\u001b[0;34m'JSONIFY_PRETTYPRINT_REGULAR'\u001b[0m\u001b[0;34m]\u001b[0m \u001b[0;32mor\u001b[0m \u001b[0mcurrent_app\u001b[0m\u001b[0;34m.\u001b[0m\u001b[0mdebug\u001b[0m\u001b[0;34m:\u001b[0m\u001b[0;34m\u001b[0m\u001b[0;34m\u001b[0m\u001b[0m\n\u001b[0m\u001b[1;32m    310\u001b[0m         \u001b[0mindent\u001b[0m \u001b[0;34m=\u001b[0m \u001b[0;36m2\u001b[0m\u001b[0;34m\u001b[0m\u001b[0;34m\u001b[0m\u001b[0m\n\u001b[1;32m    311\u001b[0m         \u001b[0mseparators\u001b[0m \u001b[0;34m=\u001b[0m \u001b[0;34m(\u001b[0m\u001b[0;34m', '\u001b[0m\u001b[0;34m,\u001b[0m \u001b[0;34m': '\u001b[0m\u001b[0;34m)\u001b[0m\u001b[0;34m\u001b[0m\u001b[0;34m\u001b[0m\u001b[0m\n",
      "\u001b[0;32m/anaconda3/lib/python3.7/site-packages/werkzeug/local.py\u001b[0m in \u001b[0;36m__getattr__\u001b[0;34m(self, name)\u001b[0m\n\u001b[1;32m    345\u001b[0m         \u001b[0;32mif\u001b[0m \u001b[0mname\u001b[0m \u001b[0;34m==\u001b[0m \u001b[0;34m'__members__'\u001b[0m\u001b[0;34m:\u001b[0m\u001b[0;34m\u001b[0m\u001b[0;34m\u001b[0m\u001b[0m\n\u001b[1;32m    346\u001b[0m             \u001b[0;32mreturn\u001b[0m \u001b[0mdir\u001b[0m\u001b[0;34m(\u001b[0m\u001b[0mself\u001b[0m\u001b[0;34m.\u001b[0m\u001b[0m_get_current_object\u001b[0m\u001b[0;34m(\u001b[0m\u001b[0;34m)\u001b[0m\u001b[0;34m)\u001b[0m\u001b[0;34m\u001b[0m\u001b[0;34m\u001b[0m\u001b[0m\n\u001b[0;32m--> 347\u001b[0;31m         \u001b[0;32mreturn\u001b[0m \u001b[0mgetattr\u001b[0m\u001b[0;34m(\u001b[0m\u001b[0mself\u001b[0m\u001b[0;34m.\u001b[0m\u001b[0m_get_current_object\u001b[0m\u001b[0;34m(\u001b[0m\u001b[0;34m)\u001b[0m\u001b[0;34m,\u001b[0m \u001b[0mname\u001b[0m\u001b[0;34m)\u001b[0m\u001b[0;34m\u001b[0m\u001b[0;34m\u001b[0m\u001b[0m\n\u001b[0m\u001b[1;32m    348\u001b[0m \u001b[0;34m\u001b[0m\u001b[0m\n\u001b[1;32m    349\u001b[0m     \u001b[0;32mdef\u001b[0m \u001b[0m__setitem__\u001b[0m\u001b[0;34m(\u001b[0m\u001b[0mself\u001b[0m\u001b[0;34m,\u001b[0m \u001b[0mkey\u001b[0m\u001b[0;34m,\u001b[0m \u001b[0mvalue\u001b[0m\u001b[0;34m)\u001b[0m\u001b[0;34m:\u001b[0m\u001b[0;34m\u001b[0m\u001b[0;34m\u001b[0m\u001b[0m\n",
      "\u001b[0;32m/anaconda3/lib/python3.7/site-packages/werkzeug/local.py\u001b[0m in \u001b[0;36m_get_current_object\u001b[0;34m(self)\u001b[0m\n\u001b[1;32m    304\u001b[0m         \"\"\"\n\u001b[1;32m    305\u001b[0m         \u001b[0;32mif\u001b[0m \u001b[0;32mnot\u001b[0m \u001b[0mhasattr\u001b[0m\u001b[0;34m(\u001b[0m\u001b[0mself\u001b[0m\u001b[0;34m.\u001b[0m\u001b[0m__local\u001b[0m\u001b[0;34m,\u001b[0m \u001b[0;34m'__release_local__'\u001b[0m\u001b[0;34m)\u001b[0m\u001b[0;34m:\u001b[0m\u001b[0;34m\u001b[0m\u001b[0;34m\u001b[0m\u001b[0m\n\u001b[0;32m--> 306\u001b[0;31m             \u001b[0;32mreturn\u001b[0m \u001b[0mself\u001b[0m\u001b[0;34m.\u001b[0m\u001b[0m__local\u001b[0m\u001b[0;34m(\u001b[0m\u001b[0;34m)\u001b[0m\u001b[0;34m\u001b[0m\u001b[0;34m\u001b[0m\u001b[0m\n\u001b[0m\u001b[1;32m    307\u001b[0m         \u001b[0;32mtry\u001b[0m\u001b[0;34m:\u001b[0m\u001b[0;34m\u001b[0m\u001b[0;34m\u001b[0m\u001b[0m\n\u001b[1;32m    308\u001b[0m             \u001b[0;32mreturn\u001b[0m \u001b[0mgetattr\u001b[0m\u001b[0;34m(\u001b[0m\u001b[0mself\u001b[0m\u001b[0;34m.\u001b[0m\u001b[0m__local\u001b[0m\u001b[0;34m,\u001b[0m \u001b[0mself\u001b[0m\u001b[0;34m.\u001b[0m\u001b[0m__name__\u001b[0m\u001b[0;34m)\u001b[0m\u001b[0;34m\u001b[0m\u001b[0;34m\u001b[0m\u001b[0m\n",
      "\u001b[0;32m/anaconda3/lib/python3.7/site-packages/flask/globals.py\u001b[0m in \u001b[0;36m_find_app\u001b[0;34m()\u001b[0m\n\u001b[1;32m     49\u001b[0m     \u001b[0mtop\u001b[0m \u001b[0;34m=\u001b[0m \u001b[0m_app_ctx_stack\u001b[0m\u001b[0;34m.\u001b[0m\u001b[0mtop\u001b[0m\u001b[0;34m\u001b[0m\u001b[0;34m\u001b[0m\u001b[0m\n\u001b[1;32m     50\u001b[0m     \u001b[0;32mif\u001b[0m \u001b[0mtop\u001b[0m \u001b[0;32mis\u001b[0m \u001b[0;32mNone\u001b[0m\u001b[0;34m:\u001b[0m\u001b[0;34m\u001b[0m\u001b[0;34m\u001b[0m\u001b[0m\n\u001b[0;32m---> 51\u001b[0;31m         \u001b[0;32mraise\u001b[0m \u001b[0mRuntimeError\u001b[0m\u001b[0;34m(\u001b[0m\u001b[0m_app_ctx_err_msg\u001b[0m\u001b[0;34m)\u001b[0m\u001b[0;34m\u001b[0m\u001b[0;34m\u001b[0m\u001b[0m\n\u001b[0m\u001b[1;32m     52\u001b[0m     \u001b[0;32mreturn\u001b[0m \u001b[0mtop\u001b[0m\u001b[0;34m.\u001b[0m\u001b[0mapp\u001b[0m\u001b[0;34m\u001b[0m\u001b[0;34m\u001b[0m\u001b[0m\n\u001b[1;32m     53\u001b[0m \u001b[0;34m\u001b[0m\u001b[0m\n",
      "\u001b[0;31mRuntimeError\u001b[0m: Working outside of application context.\n\nThis typically means that you attempted to use functionality that needed\nto interface with the current application object in some way. To solve\nthis, set up an application context with app.app_context().  See the\ndocumentation for more information."
     ]
    }
   ],
   "source": [
    "jsonify(df)"
   ]
  },
  {
   "cell_type": "code",
   "execution_count": null,
   "metadata": {},
   "outputs": [],
   "source": []
  }
 ],
 "metadata": {
  "kernelspec": {
   "display_name": "Python 3",
   "language": "python",
   "name": "python3"
  },
  "language_info": {
   "codemirror_mode": {
    "name": "ipython",
    "version": 3
   },
   "file_extension": ".py",
   "mimetype": "text/x-python",
   "name": "python",
   "nbconvert_exporter": "python",
   "pygments_lexer": "ipython3",
   "version": "3.7.3"
  }
 },
 "nbformat": 4,
 "nbformat_minor": 2
}
